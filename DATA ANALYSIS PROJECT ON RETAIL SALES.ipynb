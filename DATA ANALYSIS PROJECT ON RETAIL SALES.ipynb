{
 "cells": [
  {
   "cell_type": "markdown",
   "id": "63e3f543",
   "metadata": {},
   "source": [
    "# **DATA ANALYSIS PROJECT ON RETAIL SALES**"
   ]
  },
  {
   "cell_type": "markdown",
   "id": "26c0448e",
   "metadata": {},
   "source": [
    "#### This project entails Data analytic and Data Visualization using Python programming language and it libraries"
   ]
  },
  {
   "cell_type": "markdown",
   "id": "6a04efd8",
   "metadata": {},
   "source": [
    "#### Perfromed by: Adeyemi Oluwaseyi Emmanuel\n",
    "- [Linkedin](https://www.linkedin.com/in/oluwaseyi-adeyemi-33b1ab197/)\n",
    "- [Github](https://github.com/legendseyi)\n",
    "- [Twitter](https://twitter.com/AmLegendseyi)"
   ]
  },
  {
   "cell_type": "markdown",
   "id": "27c5959f",
   "metadata": {},
   "source": [
    "## _IMPORTING PYTHON LIBRARIES_"
   ]
  },
  {
   "cell_type": "markdown",
   "id": "b5d60701",
   "metadata": {},
   "source": [
    "In this section, we will be importing python libraries that serves as the tools required for our analytic project. \n",
    "\n",
    "The libraries we will be importing are:\n",
    "- **Pandas:** This is used for transforming/ representing the data format into a readable dataframe for cleaning, analysing, and exploring the data..\n",
    "- **Numpy:** This is used for transforming/ representing the data format into series, for cleaning, analysing, and exploring the data..\n",
    "- **Matplotlib.pyplot:** This is a module under the matplotlib library. it is used for visualizing the cleaned data\n",
    "- **Seaborn:** This library is also ued fot visualization "
   ]
  },
  {
   "cell_type": "code",
   "execution_count": 312,
   "id": "30201bd8",
   "metadata": {},
   "outputs": [],
   "source": [
    "## Libraries \n",
    "import pandas as pd\n",
    "import numpy as np\n",
    "import matplotlib.pyplot as plt\n",
    "import seaborn as sns"
   ]
  },
  {
   "cell_type": "markdown",
   "id": "22c5caff",
   "metadata": {},
   "source": [
    "## _INTRODUCTION_"
   ]
  },
  {
   "cell_type": "markdown",
   "id": "56d4918f",
   "metadata": {},
   "source": [
    "In this section, we will be importing the dataset which is in a csv format **(Comma-Separated Values)**"
   ]
  },
  {
   "cell_type": "markdown",
   "id": "47e00824",
   "metadata": {},
   "source": [
    "### NOTE: IMPORTANT INSIGHTS ARE REPRESENTED IN BOLD TEXTS "
   ]
  },
  {
   "cell_type": "markdown",
   "id": "3473a1f4",
   "metadata": {},
   "source": [
    "The dataset contains information about a retail sales transaction which was sourced from Kaggle.com. The dataset contains 1000 rows and 9 columns. Each row represents a transaction, with details:\n",
    "1.\tTransaction ID: Each transaction has a distinct identification number that enables tracking and referencing.\n",
    "2.\tDate: The date when the transaction occurred, providing insight into sales trends over time.\n",
    "3.\tCustomer ID: Each customer is assigned a unique identifier which allows for in-depth analysis focused on the customer.\n",
    "4.\tGender: Customer gender (male/female) provides insights into purchasing patterns based on gender. \n",
    "5.\tAge: Age of the customer plays a crucial role in segmenting and exploring age-related influence.\n",
    "6.\tProduct Category: The product category (Electronics, Clothing, and Beauty) helps identify product preferences.\n",
    "7.\tQuantity: The number of units of the product purchased, contributing to insights on purchase volumes.\n",
    "8.\tPrice per Unit (£): The price of one unit of the product, aiding in calculations related to total spending.\n",
    "9.\tTotal Amount (£): The total amount of money spent on the transaction, including the financial impact of each purchase.\n"
   ]
  },
  {
   "cell_type": "code",
   "execution_count": 313,
   "id": "3ca081c6",
   "metadata": {},
   "outputs": [],
   "source": [
    "data = pd.read_csv('retail_sales_dataset.csv')"
   ]
  },
  {
   "cell_type": "markdown",
   "id": "087bedbc",
   "metadata": {},
   "source": [
    "The dataset has been imported and stored to a variable. so it ready for further exploration."
   ]
  },
  {
   "cell_type": "code",
   "execution_count": 314,
   "id": "fa34209b",
   "metadata": {},
   "outputs": [
    {
     "data": {
      "text/plain": [
       "(1000, 9)"
      ]
     },
     "execution_count": 314,
     "metadata": {},
     "output_type": "execute_result"
    }
   ],
   "source": [
    "data.shape"
   ]
  },
  {
   "cell_type": "markdown",
   "id": "43ee3b24",
   "metadata": {},
   "source": [
    "**This dataset has 1000 rows and 9 columns**"
   ]
  },
  {
   "cell_type": "code",
   "execution_count": 315,
   "id": "635ab6f3",
   "metadata": {
    "scrolled": true
   },
   "outputs": [
    {
     "name": "stdout",
     "output_type": "stream",
     "text": [
      "<class 'pandas.core.frame.DataFrame'>\n",
      "RangeIndex: 1000 entries, 0 to 999\n",
      "Data columns (total 9 columns):\n",
      " #   Column            Non-Null Count  Dtype \n",
      "---  ------            --------------  ----- \n",
      " 0   Transaction ID    1000 non-null   int64 \n",
      " 1   Date              1000 non-null   object\n",
      " 2   Customer ID       1000 non-null   object\n",
      " 3   Gender            1000 non-null   object\n",
      " 4   Age               1000 non-null   int64 \n",
      " 5   Product Category  1000 non-null   object\n",
      " 6   Quantity          1000 non-null   int64 \n",
      " 7   Price per Unit    1000 non-null   int64 \n",
      " 8   Total Amount      1000 non-null   int64 \n",
      "dtypes: int64(5), object(4)\n",
      "memory usage: 70.4+ KB\n"
     ]
    }
   ],
   "source": [
    "data.info()"
   ]
  },
  {
   "cell_type": "markdown",
   "id": "5f2cfc6b",
   "metadata": {},
   "source": [
    "**Checking the data overall information, these are the observations:**\n",
    "- **There are no null values; this means that there are no missing values and the data is clean**\n",
    "- **Five of the columns are int64(5) data type; meaning that the columns contains number values**\n",
    "- **Four of the columns are Object data type; meaning that the columns contains letters**\n",
    "\n",
    "\n"
   ]
  },
  {
   "cell_type": "markdown",
   "id": "aba9bde2",
   "metadata": {},
   "source": [
    "Overview of the first 5 rolls of the dataset"
   ]
  },
  {
   "cell_type": "code",
   "execution_count": 316,
   "id": "9879400b",
   "metadata": {
    "scrolled": true
   },
   "outputs": [
    {
     "data": {
      "text/html": [
       "<div>\n",
       "<style scoped>\n",
       "    .dataframe tbody tr th:only-of-type {\n",
       "        vertical-align: middle;\n",
       "    }\n",
       "\n",
       "    .dataframe tbody tr th {\n",
       "        vertical-align: top;\n",
       "    }\n",
       "\n",
       "    .dataframe thead th {\n",
       "        text-align: right;\n",
       "    }\n",
       "</style>\n",
       "<table border=\"1\" class=\"dataframe\">\n",
       "  <thead>\n",
       "    <tr style=\"text-align: right;\">\n",
       "      <th></th>\n",
       "      <th>Transaction ID</th>\n",
       "      <th>Date</th>\n",
       "      <th>Customer ID</th>\n",
       "      <th>Gender</th>\n",
       "      <th>Age</th>\n",
       "      <th>Product Category</th>\n",
       "      <th>Quantity</th>\n",
       "      <th>Price per Unit</th>\n",
       "      <th>Total Amount</th>\n",
       "    </tr>\n",
       "  </thead>\n",
       "  <tbody>\n",
       "    <tr>\n",
       "      <th>0</th>\n",
       "      <td>1</td>\n",
       "      <td>2023-11-24</td>\n",
       "      <td>CUST001</td>\n",
       "      <td>Male</td>\n",
       "      <td>34</td>\n",
       "      <td>Beauty</td>\n",
       "      <td>3</td>\n",
       "      <td>50</td>\n",
       "      <td>150</td>\n",
       "    </tr>\n",
       "    <tr>\n",
       "      <th>1</th>\n",
       "      <td>2</td>\n",
       "      <td>2023-02-27</td>\n",
       "      <td>CUST002</td>\n",
       "      <td>Female</td>\n",
       "      <td>26</td>\n",
       "      <td>Clothing</td>\n",
       "      <td>2</td>\n",
       "      <td>500</td>\n",
       "      <td>1000</td>\n",
       "    </tr>\n",
       "    <tr>\n",
       "      <th>2</th>\n",
       "      <td>3</td>\n",
       "      <td>2023-01-13</td>\n",
       "      <td>CUST003</td>\n",
       "      <td>Male</td>\n",
       "      <td>50</td>\n",
       "      <td>Electronics</td>\n",
       "      <td>1</td>\n",
       "      <td>30</td>\n",
       "      <td>30</td>\n",
       "    </tr>\n",
       "    <tr>\n",
       "      <th>3</th>\n",
       "      <td>4</td>\n",
       "      <td>2023-05-21</td>\n",
       "      <td>CUST004</td>\n",
       "      <td>Male</td>\n",
       "      <td>37</td>\n",
       "      <td>Clothing</td>\n",
       "      <td>1</td>\n",
       "      <td>500</td>\n",
       "      <td>500</td>\n",
       "    </tr>\n",
       "    <tr>\n",
       "      <th>4</th>\n",
       "      <td>5</td>\n",
       "      <td>2023-05-06</td>\n",
       "      <td>CUST005</td>\n",
       "      <td>Male</td>\n",
       "      <td>30</td>\n",
       "      <td>Beauty</td>\n",
       "      <td>2</td>\n",
       "      <td>50</td>\n",
       "      <td>100</td>\n",
       "    </tr>\n",
       "  </tbody>\n",
       "</table>\n",
       "</div>"
      ],
      "text/plain": [
       "   Transaction ID        Date Customer ID  Gender  Age Product Category  \\\n",
       "0               1  2023-11-24     CUST001    Male   34           Beauty   \n",
       "1               2  2023-02-27     CUST002  Female   26         Clothing   \n",
       "2               3  2023-01-13     CUST003    Male   50      Electronics   \n",
       "3               4  2023-05-21     CUST004    Male   37         Clothing   \n",
       "4               5  2023-05-06     CUST005    Male   30           Beauty   \n",
       "\n",
       "   Quantity  Price per Unit  Total Amount  \n",
       "0         3              50           150  \n",
       "1         2             500          1000  \n",
       "2         1              30            30  \n",
       "3         1             500           500  \n",
       "4         2              50           100  "
      ]
     },
     "execution_count": 316,
     "metadata": {},
     "output_type": "execute_result"
    }
   ],
   "source": [
    "data.head(5)"
   ]
  },
  {
   "cell_type": "code",
   "execution_count": 317,
   "id": "5538692f",
   "metadata": {
    "scrolled": false
   },
   "outputs": [
    {
     "data": {
      "text/plain": [
       "Index(['Transaction ID', 'Date', 'Customer ID', 'Gender', 'Age',\n",
       "       'Product Category', 'Quantity', 'Price per Unit', 'Total Amount'],\n",
       "      dtype='object')"
      ]
     },
     "execution_count": 317,
     "metadata": {},
     "output_type": "execute_result"
    }
   ],
   "source": [
    "data.columns"
   ]
  },
  {
   "cell_type": "markdown",
   "id": "071724d8",
   "metadata": {},
   "source": [
    "**These are the list of columns available in the data:**\n",
    "- transaction id\n",
    "- date\n",
    "- customer id\n",
    "- gender\n",
    "- age\n",
    "- product category\n",
    "- quantity\n",
    "- price per unit\n",
    "- total amount"
   ]
  },
  {
   "cell_type": "markdown",
   "id": "a480b428",
   "metadata": {},
   "source": [
    "_From Observation, according to python standard code format, i will rename the columns, by fill the empty space ( \" \"  with \"_\") "
   ]
  },
  {
   "cell_type": "code",
   "execution_count": 318,
   "id": "80f33dff",
   "metadata": {},
   "outputs": [],
   "source": [
    "# renaming the data columns\n",
    "new_colnames = []\n",
    "for col in data.columns:\n",
    "    new_colnames.append(col.replace(' ', '_').lower())\n",
    "data.columns = new_colnames"
   ]
  },
  {
   "cell_type": "code",
   "execution_count": 319,
   "id": "2605055b",
   "metadata": {},
   "outputs": [
    {
     "data": {
      "text/html": [
       "<div>\n",
       "<style scoped>\n",
       "    .dataframe tbody tr th:only-of-type {\n",
       "        vertical-align: middle;\n",
       "    }\n",
       "\n",
       "    .dataframe tbody tr th {\n",
       "        vertical-align: top;\n",
       "    }\n",
       "\n",
       "    .dataframe thead th {\n",
       "        text-align: right;\n",
       "    }\n",
       "</style>\n",
       "<table border=\"1\" class=\"dataframe\">\n",
       "  <thead>\n",
       "    <tr style=\"text-align: right;\">\n",
       "      <th></th>\n",
       "      <th>transaction_id</th>\n",
       "      <th>date</th>\n",
       "      <th>customer_id</th>\n",
       "      <th>gender</th>\n",
       "      <th>age</th>\n",
       "      <th>product_category</th>\n",
       "      <th>quantity</th>\n",
       "      <th>price_per_unit</th>\n",
       "      <th>total_amount</th>\n",
       "    </tr>\n",
       "  </thead>\n",
       "  <tbody>\n",
       "    <tr>\n",
       "      <th>0</th>\n",
       "      <td>1</td>\n",
       "      <td>2023-11-24</td>\n",
       "      <td>CUST001</td>\n",
       "      <td>Male</td>\n",
       "      <td>34</td>\n",
       "      <td>Beauty</td>\n",
       "      <td>3</td>\n",
       "      <td>50</td>\n",
       "      <td>150</td>\n",
       "    </tr>\n",
       "    <tr>\n",
       "      <th>1</th>\n",
       "      <td>2</td>\n",
       "      <td>2023-02-27</td>\n",
       "      <td>CUST002</td>\n",
       "      <td>Female</td>\n",
       "      <td>26</td>\n",
       "      <td>Clothing</td>\n",
       "      <td>2</td>\n",
       "      <td>500</td>\n",
       "      <td>1000</td>\n",
       "    </tr>\n",
       "    <tr>\n",
       "      <th>2</th>\n",
       "      <td>3</td>\n",
       "      <td>2023-01-13</td>\n",
       "      <td>CUST003</td>\n",
       "      <td>Male</td>\n",
       "      <td>50</td>\n",
       "      <td>Electronics</td>\n",
       "      <td>1</td>\n",
       "      <td>30</td>\n",
       "      <td>30</td>\n",
       "    </tr>\n",
       "    <tr>\n",
       "      <th>3</th>\n",
       "      <td>4</td>\n",
       "      <td>2023-05-21</td>\n",
       "      <td>CUST004</td>\n",
       "      <td>Male</td>\n",
       "      <td>37</td>\n",
       "      <td>Clothing</td>\n",
       "      <td>1</td>\n",
       "      <td>500</td>\n",
       "      <td>500</td>\n",
       "    </tr>\n",
       "    <tr>\n",
       "      <th>4</th>\n",
       "      <td>5</td>\n",
       "      <td>2023-05-06</td>\n",
       "      <td>CUST005</td>\n",
       "      <td>Male</td>\n",
       "      <td>30</td>\n",
       "      <td>Beauty</td>\n",
       "      <td>2</td>\n",
       "      <td>50</td>\n",
       "      <td>100</td>\n",
       "    </tr>\n",
       "    <tr>\n",
       "      <th>...</th>\n",
       "      <td>...</td>\n",
       "      <td>...</td>\n",
       "      <td>...</td>\n",
       "      <td>...</td>\n",
       "      <td>...</td>\n",
       "      <td>...</td>\n",
       "      <td>...</td>\n",
       "      <td>...</td>\n",
       "      <td>...</td>\n",
       "    </tr>\n",
       "    <tr>\n",
       "      <th>995</th>\n",
       "      <td>996</td>\n",
       "      <td>2023-05-16</td>\n",
       "      <td>CUST996</td>\n",
       "      <td>Male</td>\n",
       "      <td>62</td>\n",
       "      <td>Clothing</td>\n",
       "      <td>1</td>\n",
       "      <td>50</td>\n",
       "      <td>50</td>\n",
       "    </tr>\n",
       "    <tr>\n",
       "      <th>996</th>\n",
       "      <td>997</td>\n",
       "      <td>2023-11-17</td>\n",
       "      <td>CUST997</td>\n",
       "      <td>Male</td>\n",
       "      <td>52</td>\n",
       "      <td>Beauty</td>\n",
       "      <td>3</td>\n",
       "      <td>30</td>\n",
       "      <td>90</td>\n",
       "    </tr>\n",
       "    <tr>\n",
       "      <th>997</th>\n",
       "      <td>998</td>\n",
       "      <td>2023-10-29</td>\n",
       "      <td>CUST998</td>\n",
       "      <td>Female</td>\n",
       "      <td>23</td>\n",
       "      <td>Beauty</td>\n",
       "      <td>4</td>\n",
       "      <td>25</td>\n",
       "      <td>100</td>\n",
       "    </tr>\n",
       "    <tr>\n",
       "      <th>998</th>\n",
       "      <td>999</td>\n",
       "      <td>2023-12-05</td>\n",
       "      <td>CUST999</td>\n",
       "      <td>Female</td>\n",
       "      <td>36</td>\n",
       "      <td>Electronics</td>\n",
       "      <td>3</td>\n",
       "      <td>50</td>\n",
       "      <td>150</td>\n",
       "    </tr>\n",
       "    <tr>\n",
       "      <th>999</th>\n",
       "      <td>1000</td>\n",
       "      <td>2023-04-12</td>\n",
       "      <td>CUST1000</td>\n",
       "      <td>Male</td>\n",
       "      <td>47</td>\n",
       "      <td>Electronics</td>\n",
       "      <td>4</td>\n",
       "      <td>30</td>\n",
       "      <td>120</td>\n",
       "    </tr>\n",
       "  </tbody>\n",
       "</table>\n",
       "<p>1000 rows × 9 columns</p>\n",
       "</div>"
      ],
      "text/plain": [
       "     transaction_id        date customer_id  gender  age product_category  \\\n",
       "0                 1  2023-11-24     CUST001    Male   34           Beauty   \n",
       "1                 2  2023-02-27     CUST002  Female   26         Clothing   \n",
       "2                 3  2023-01-13     CUST003    Male   50      Electronics   \n",
       "3                 4  2023-05-21     CUST004    Male   37         Clothing   \n",
       "4                 5  2023-05-06     CUST005    Male   30           Beauty   \n",
       "..              ...         ...         ...     ...  ...              ...   \n",
       "995             996  2023-05-16     CUST996    Male   62         Clothing   \n",
       "996             997  2023-11-17     CUST997    Male   52           Beauty   \n",
       "997             998  2023-10-29     CUST998  Female   23           Beauty   \n",
       "998             999  2023-12-05     CUST999  Female   36      Electronics   \n",
       "999            1000  2023-04-12    CUST1000    Male   47      Electronics   \n",
       "\n",
       "     quantity  price_per_unit  total_amount  \n",
       "0           3              50           150  \n",
       "1           2             500          1000  \n",
       "2           1              30            30  \n",
       "3           1             500           500  \n",
       "4           2              50           100  \n",
       "..        ...             ...           ...  \n",
       "995         1              50            50  \n",
       "996         3              30            90  \n",
       "997         4              25           100  \n",
       "998         3              50           150  \n",
       "999         4              30           120  \n",
       "\n",
       "[1000 rows x 9 columns]"
      ]
     },
     "execution_count": 319,
     "metadata": {},
     "output_type": "execute_result"
    }
   ],
   "source": [
    "# Checking if the changes are applied\n",
    "data"
   ]
  },
  {
   "cell_type": "markdown",
   "id": "1b5bf2f7",
   "metadata": {},
   "source": [
    "**Although not included in the corresponding column names, the currency of these data is GBP (£).**"
   ]
  },
  {
   "cell_type": "markdown",
   "id": "44cafe91",
   "metadata": {},
   "source": [
    "Checking  data types (dtypes)"
   ]
  },
  {
   "cell_type": "code",
   "execution_count": 320,
   "id": "e3dd899c",
   "metadata": {},
   "outputs": [
    {
     "data": {
      "text/plain": [
       "transaction_id       int64\n",
       "date                object\n",
       "customer_id         object\n",
       "gender              object\n",
       "age                  int64\n",
       "product_category    object\n",
       "quantity             int64\n",
       "price_per_unit       int64\n",
       "total_amount         int64\n",
       "dtype: object"
      ]
     },
     "execution_count": 320,
     "metadata": {},
     "output_type": "execute_result"
    }
   ],
   "source": [
    "data.dtypes"
   ]
  },
  {
   "cell_type": "markdown",
   "id": "a8d5f50f",
   "metadata": {},
   "source": [
    "**I will make the following changes to some column dtypes:**  \n",
    "- date to **`datetime`**\n",
    "- gender and product_category to **`category`**"
   ]
  },
  {
   "cell_type": "code",
   "execution_count": 321,
   "id": "0aab7fe2",
   "metadata": {},
   "outputs": [],
   "source": [
    "data.date = pd.to_datetime(data.date)"
   ]
  },
  {
   "cell_type": "code",
   "execution_count": 322,
   "id": "90b61f5a",
   "metadata": {},
   "outputs": [],
   "source": [
    "data.gender = data.gender.astype('category')\n",
    "data.product_category = data.product_category.astype('category')"
   ]
  },
  {
   "cell_type": "markdown",
   "id": "e4a32977",
   "metadata": {},
   "source": [
    "Checking if the data types changes has been applied"
   ]
  },
  {
   "cell_type": "code",
   "execution_count": 323,
   "id": "90d5e5b7",
   "metadata": {},
   "outputs": [
    {
     "data": {
      "text/plain": [
       "transaction_id               int64\n",
       "date                datetime64[ns]\n",
       "customer_id                 object\n",
       "gender                    category\n",
       "age                          int64\n",
       "product_category          category\n",
       "quantity                     int64\n",
       "price_per_unit               int64\n",
       "total_amount                 int64\n",
       "dtype: object"
      ]
     },
     "execution_count": 323,
     "metadata": {},
     "output_type": "execute_result"
    }
   ],
   "source": [
    "data.dtypes"
   ]
  },
  {
   "cell_type": "markdown",
   "id": "595f71ab",
   "metadata": {},
   "source": [
    "## DATA CLEANING AND PRELIMINAR EDA "
   ]
  },
  {
   "cell_type": "markdown",
   "id": "030a6010",
   "metadata": {},
   "source": [
    "In this section, we will start by analying the data column by column"
   ]
  },
  {
   "cell_type": "code",
   "execution_count": 324,
   "id": "cb50c5a0",
   "metadata": {
    "scrolled": false
   },
   "outputs": [
    {
     "data": {
      "text/html": [
       "<div>\n",
       "<style scoped>\n",
       "    .dataframe tbody tr th:only-of-type {\n",
       "        vertical-align: middle;\n",
       "    }\n",
       "\n",
       "    .dataframe tbody tr th {\n",
       "        vertical-align: top;\n",
       "    }\n",
       "\n",
       "    .dataframe thead th {\n",
       "        text-align: right;\n",
       "    }\n",
       "</style>\n",
       "<table border=\"1\" class=\"dataframe\">\n",
       "  <thead>\n",
       "    <tr style=\"text-align: right;\">\n",
       "      <th></th>\n",
       "      <th>transaction_id</th>\n",
       "      <th>date</th>\n",
       "      <th>customer_id</th>\n",
       "      <th>gender</th>\n",
       "      <th>age</th>\n",
       "      <th>product_category</th>\n",
       "      <th>quantity</th>\n",
       "      <th>price_per_unit</th>\n",
       "      <th>total_amount</th>\n",
       "    </tr>\n",
       "  </thead>\n",
       "  <tbody>\n",
       "    <tr>\n",
       "      <th>0</th>\n",
       "      <td>1</td>\n",
       "      <td>2023-11-24</td>\n",
       "      <td>CUST001</td>\n",
       "      <td>Male</td>\n",
       "      <td>34</td>\n",
       "      <td>Beauty</td>\n",
       "      <td>3</td>\n",
       "      <td>50</td>\n",
       "      <td>150</td>\n",
       "    </tr>\n",
       "    <tr>\n",
       "      <th>1</th>\n",
       "      <td>2</td>\n",
       "      <td>2023-02-27</td>\n",
       "      <td>CUST002</td>\n",
       "      <td>Female</td>\n",
       "      <td>26</td>\n",
       "      <td>Clothing</td>\n",
       "      <td>2</td>\n",
       "      <td>500</td>\n",
       "      <td>1000</td>\n",
       "    </tr>\n",
       "    <tr>\n",
       "      <th>2</th>\n",
       "      <td>3</td>\n",
       "      <td>2023-01-13</td>\n",
       "      <td>CUST003</td>\n",
       "      <td>Male</td>\n",
       "      <td>50</td>\n",
       "      <td>Electronics</td>\n",
       "      <td>1</td>\n",
       "      <td>30</td>\n",
       "      <td>30</td>\n",
       "    </tr>\n",
       "    <tr>\n",
       "      <th>3</th>\n",
       "      <td>4</td>\n",
       "      <td>2023-05-21</td>\n",
       "      <td>CUST004</td>\n",
       "      <td>Male</td>\n",
       "      <td>37</td>\n",
       "      <td>Clothing</td>\n",
       "      <td>1</td>\n",
       "      <td>500</td>\n",
       "      <td>500</td>\n",
       "    </tr>\n",
       "    <tr>\n",
       "      <th>4</th>\n",
       "      <td>5</td>\n",
       "      <td>2023-05-06</td>\n",
       "      <td>CUST005</td>\n",
       "      <td>Male</td>\n",
       "      <td>30</td>\n",
       "      <td>Beauty</td>\n",
       "      <td>2</td>\n",
       "      <td>50</td>\n",
       "      <td>100</td>\n",
       "    </tr>\n",
       "  </tbody>\n",
       "</table>\n",
       "</div>"
      ],
      "text/plain": [
       "   transaction_id       date customer_id  gender  age product_category  \\\n",
       "0               1 2023-11-24     CUST001    Male   34           Beauty   \n",
       "1               2 2023-02-27     CUST002  Female   26         Clothing   \n",
       "2               3 2023-01-13     CUST003    Male   50      Electronics   \n",
       "3               4 2023-05-21     CUST004    Male   37         Clothing   \n",
       "4               5 2023-05-06     CUST005    Male   30           Beauty   \n",
       "\n",
       "   quantity  price_per_unit  total_amount  \n",
       "0         3              50           150  \n",
       "1         2             500          1000  \n",
       "2         1              30            30  \n",
       "3         1             500           500  \n",
       "4         2              50           100  "
      ]
     },
     "execution_count": 324,
     "metadata": {},
     "output_type": "execute_result"
    }
   ],
   "source": [
    "data.head()"
   ]
  },
  {
   "cell_type": "markdown",
   "id": "d9ea1bd5",
   "metadata": {},
   "source": [
    "### TRANSACTION ID COLUMN"
   ]
  },
  {
   "cell_type": "code",
   "execution_count": 325,
   "id": "b5524825",
   "metadata": {},
   "outputs": [
    {
     "data": {
      "text/plain": [
       "1000"
      ]
     },
     "execution_count": 325,
     "metadata": {},
     "output_type": "execute_result"
    }
   ],
   "source": [
    "data['transaction_id'].value_counts().sum()"
   ]
  },
  {
   "cell_type": "markdown",
   "id": "3fd200bf",
   "metadata": {},
   "source": [
    "**From the Above, there are 1000 rolls and 1000 unique value of number in the transaction_id column**\n",
    "\n",
    "The column mainly represent the identity of each unqiue transaction preformed"
   ]
  },
  {
   "cell_type": "markdown",
   "id": "74f63db0",
   "metadata": {},
   "source": [
    "### DATE COLUMN"
   ]
  },
  {
   "cell_type": "code",
   "execution_count": 326,
   "id": "726e74b0",
   "metadata": {},
   "outputs": [
    {
     "data": {
      "text/plain": [
       "0     2023-11-24\n",
       "1     2023-02-27\n",
       "2     2023-01-13\n",
       "3     2023-05-21\n",
       "4     2023-05-06\n",
       "         ...    \n",
       "995   2023-05-16\n",
       "996   2023-11-17\n",
       "997   2023-10-29\n",
       "998   2023-12-05\n",
       "999   2023-04-12\n",
       "Name: date, Length: 1000, dtype: datetime64[ns]"
      ]
     },
     "execution_count": 326,
     "metadata": {},
     "output_type": "execute_result"
    }
   ],
   "source": [
    "# Checking the date column information\n",
    "data['date']"
   ]
  },
  {
   "cell_type": "code",
   "execution_count": 327,
   "id": "f8a0fb2d",
   "metadata": {},
   "outputs": [
    {
     "data": {
      "text/plain": [
       "(Timestamp('2023-01-01 00:00:00'), Timestamp('2024-01-01 00:00:00'))"
      ]
     },
     "execution_count": 327,
     "metadata": {},
     "output_type": "execute_result"
    }
   ],
   "source": [
    "min(data.date), max(data.date)"
   ]
  },
  {
   "cell_type": "markdown",
   "id": "4f50cefb",
   "metadata": {},
   "source": [
    "**What are the earliest and the latest transactions?**\n",
    "- **The earliest Transaction was made 2023-01-01 (i.e 1st of January 2023)**\n",
    "- **The latest Transaction was made 2024-01-01 (i.e 1st of January 2024)**"
   ]
  },
  {
   "cell_type": "code",
   "execution_count": 328,
   "id": "6c3ce2ce",
   "metadata": {},
   "outputs": [],
   "source": [
    "# temporarily converting the date column to str so we can extract some insight\n",
    "date = data.date.astype(str)"
   ]
  },
  {
   "cell_type": "code",
   "execution_count": 329,
   "id": "1b379da1",
   "metadata": {},
   "outputs": [],
   "source": [
    "year = date.str[:4]"
   ]
  },
  {
   "cell_type": "code",
   "execution_count": 330,
   "id": "e8bba4d1",
   "metadata": {
    "scrolled": true
   },
   "outputs": [
    {
     "data": {
      "text/plain": [
       "0    2023\n",
       "1    2023\n",
       "2    2023\n",
       "3    2023\n",
       "4    2023\n",
       "Name: date, dtype: object"
      ]
     },
     "execution_count": 330,
     "metadata": {},
     "output_type": "execute_result"
    }
   ],
   "source": [
    "year.head()"
   ]
  },
  {
   "cell_type": "code",
   "execution_count": 331,
   "id": "2c59829d",
   "metadata": {
    "scrolled": true
   },
   "outputs": [
    {
     "data": {
      "text/plain": [
       "array(['2023', '2024'], dtype=object)"
      ]
     },
     "execution_count": 331,
     "metadata": {},
     "output_type": "execute_result"
    }
   ],
   "source": [
    "year.unique()"
   ]
  },
  {
   "cell_type": "markdown",
   "id": "2583825c",
   "metadata": {},
   "source": [
    "**From the Above, the retail transaction in this data span from 2023 to 2024**"
   ]
  },
  {
   "cell_type": "markdown",
   "id": "2e9c1a05",
   "metadata": {},
   "source": [
    "Extracting the month values from the dataset"
   ]
  },
  {
   "cell_type": "code",
   "execution_count": 332,
   "id": "5c85e9d2",
   "metadata": {},
   "outputs": [],
   "source": [
    "month = date.str[5:7].astype(int)"
   ]
  },
  {
   "cell_type": "markdown",
   "id": "f24bd1e7",
   "metadata": {},
   "source": [
    "creating the dictionary that indicate what month the values represent"
   ]
  },
  {
   "cell_type": "code",
   "execution_count": 333,
   "id": "17771088",
   "metadata": {},
   "outputs": [],
   "source": [
    "month_dico = {1:'January', 2:'February', 3:'March', 4:'April', 5:'May', 6:'June', 7:'July',\n",
    "              8:'August', 9:'September', 10:'October', 11:'November', 12:'December'}"
   ]
  },
  {
   "cell_type": "markdown",
   "id": "efad1014",
   "metadata": {},
   "source": [
    "replacing the values with the actual month name."
   ]
  },
  {
   "cell_type": "code",
   "execution_count": 334,
   "id": "87543291",
   "metadata": {},
   "outputs": [],
   "source": [
    "month.replace(month_dico, inplace= True)"
   ]
  },
  {
   "cell_type": "code",
   "execution_count": 335,
   "id": "27326831",
   "metadata": {},
   "outputs": [
    {
     "data": {
      "text/plain": [
       "array(['November', 'February', 'January', 'May', 'April', 'March',\n",
       "       'December', 'October', 'August', 'September', 'June', 'July'],\n",
       "      dtype=object)"
      ]
     },
     "execution_count": 335,
     "metadata": {},
     "output_type": "execute_result"
    }
   ],
   "source": [
    "month.unique()"
   ]
  },
  {
   "cell_type": "code",
   "execution_count": 336,
   "id": "4fb56e57",
   "metadata": {},
   "outputs": [
    {
     "data": {
      "text/plain": [
       "12"
      ]
     },
     "execution_count": 336,
     "metadata": {},
     "output_type": "execute_result"
    }
   ],
   "source": [
    "month.nunique()"
   ]
  },
  {
   "cell_type": "markdown",
   "id": "411c7e0d",
   "metadata": {},
   "source": [
    "We have successful generated the month values representation"
   ]
  },
  {
   "cell_type": "code",
   "execution_count": 337,
   "id": "e98acb81",
   "metadata": {
    "scrolled": true
   },
   "outputs": [
    {
     "data": {
      "text/plain": [
       "count     1000\n",
       "unique      12\n",
       "top        May\n",
       "freq       105\n",
       "Name: date, dtype: object"
      ]
     },
     "execution_count": 337,
     "metadata": {},
     "output_type": "execute_result"
    }
   ],
   "source": [
    "month.describe()"
   ]
  },
  {
   "cell_type": "code",
   "execution_count": 338,
   "id": "9a220717",
   "metadata": {},
   "outputs": [],
   "source": [
    "# Get the value counts\n",
    "value_counts = month.value_counts()\n",
    "\n",
    "# Define a custom sort order\n",
    "custom_sort = ['January', 'February', 'March', 'April', 'May', 'June', 'July', 'August', 'September',\n",
    "               'October', 'November', 'December']\n",
    "\n",
    "# Sort the value counts based on the custom order\n",
    "sorted_month_counts = value_counts.loc[custom_sort]"
   ]
  },
  {
   "cell_type": "code",
   "execution_count": 339,
   "id": "7c2ebfef",
   "metadata": {},
   "outputs": [
    {
     "data": {
      "text/html": [
       "<div>\n",
       "<style scoped>\n",
       "    .dataframe tbody tr th:only-of-type {\n",
       "        vertical-align: middle;\n",
       "    }\n",
       "\n",
       "    .dataframe tbody tr th {\n",
       "        vertical-align: top;\n",
       "    }\n",
       "\n",
       "    .dataframe thead th {\n",
       "        text-align: right;\n",
       "    }\n",
       "</style>\n",
       "<table border=\"1\" class=\"dataframe\">\n",
       "  <thead>\n",
       "    <tr style=\"text-align: right;\">\n",
       "      <th></th>\n",
       "      <th>date</th>\n",
       "    </tr>\n",
       "  </thead>\n",
       "  <tbody>\n",
       "    <tr>\n",
       "      <th>January</th>\n",
       "      <td>78</td>\n",
       "    </tr>\n",
       "    <tr>\n",
       "      <th>February</th>\n",
       "      <td>85</td>\n",
       "    </tr>\n",
       "    <tr>\n",
       "      <th>March</th>\n",
       "      <td>73</td>\n",
       "    </tr>\n",
       "    <tr>\n",
       "      <th>April</th>\n",
       "      <td>86</td>\n",
       "    </tr>\n",
       "    <tr>\n",
       "      <th>May</th>\n",
       "      <td>105</td>\n",
       "    </tr>\n",
       "    <tr>\n",
       "      <th>June</th>\n",
       "      <td>77</td>\n",
       "    </tr>\n",
       "    <tr>\n",
       "      <th>July</th>\n",
       "      <td>72</td>\n",
       "    </tr>\n",
       "    <tr>\n",
       "      <th>August</th>\n",
       "      <td>94</td>\n",
       "    </tr>\n",
       "    <tr>\n",
       "      <th>September</th>\n",
       "      <td>65</td>\n",
       "    </tr>\n",
       "    <tr>\n",
       "      <th>October</th>\n",
       "      <td>96</td>\n",
       "    </tr>\n",
       "    <tr>\n",
       "      <th>November</th>\n",
       "      <td>78</td>\n",
       "    </tr>\n",
       "    <tr>\n",
       "      <th>December</th>\n",
       "      <td>91</td>\n",
       "    </tr>\n",
       "  </tbody>\n",
       "</table>\n",
       "</div>"
      ],
      "text/plain": [
       "           date\n",
       "January      78\n",
       "February     85\n",
       "March        73\n",
       "April        86\n",
       "May         105\n",
       "June         77\n",
       "July         72\n",
       "August       94\n",
       "September    65\n",
       "October      96\n",
       "November     78\n",
       "December     91"
      ]
     },
     "execution_count": 339,
     "metadata": {},
     "output_type": "execute_result"
    }
   ],
   "source": [
    "sorted_month_counts.to_frame()"
   ]
  },
  {
   "cell_type": "markdown",
   "id": "b6023814",
   "metadata": {},
   "source": [
    "- **The month of May is the month with the most number of sales recorded. with the total of 105 sales**\n",
    "- **The month of September is the month with the least number of sales recorded. with the total of 65 sales**\n"
   ]
  },
  {
   "cell_type": "code",
   "execution_count": 340,
   "id": "ab7a70f5",
   "metadata": {
    "scrolled": false
   },
   "outputs": [
    {
     "data": {
      "image/png": "[encoded data removed]",
      "text/plain": [
       "<Figure size 1152x360 with 1 Axes>"
      ]
     },
     "metadata": {
      "needs_background": "light"
     },
     "output_type": "display_data"
    }
   ],
   "source": [
    "plt.figure(figsize=(16,5))\n",
    "\n",
    "\n",
    "plt.plot(sorted_month_counts.index, sorted_month_counts.values, color = 'blue')\n",
    "# Customize the plot\n",
    "plt.ylabel('Frequency')\n",
    "plt.xlabel('Month')\n",
    "plt.title('Sales per Month')\n",
    "\n",
    "plt.show()"
   ]
  },
  {
   "cell_type": "markdown",
   "id": "ff39510f",
   "metadata": {},
   "source": [
    "**VISUALIZATION OF MONTHS WITH THEIR NUMBER OF SALES**"
   ]
  },
  {
   "cell_type": "code",
   "execution_count": 341,
   "id": "430163ed",
   "metadata": {
    "scrolled": true
   },
   "outputs": [
    {
     "data": {
      "image/png": "[encoded data removed]",
      "text/plain": [
       "<Figure size 504x288 with 1 Axes>"
      ]
     },
     "metadata": {
      "needs_background": "light"
     },
     "output_type": "display_data"
    }
   ],
   "source": [
    "plt.figure(figsize=(7,4))\n",
    "value_counts = year.value_counts()\n",
    "\n",
    "plt.barh(value_counts.index, value_counts.values, label='Sales', color= 'orange')\n",
    "# Customize the plot\n",
    "plt.ylabel('Year')\n",
    "plt.xlabel('Frequency')\n",
    "plt.title('Year Frequency Representation')\n",
    "\n",
    "plt.legend()\n",
    "plt.show()"
   ]
  },
  {
   "cell_type": "markdown",
   "id": "7b2307a4",
   "metadata": {},
   "source": [
    "**VISUALIZATION OF YEARS WITH THE NUMBER OF SALES**"
   ]
  },
  {
   "cell_type": "markdown",
   "id": "208cbcfb",
   "metadata": {},
   "source": [
    "### CUSTOMER ID COLUMN  "
   ]
  },
  {
   "cell_type": "code",
   "execution_count": 342,
   "id": "834a713e",
   "metadata": {},
   "outputs": [
    {
     "data": {
      "text/plain": [
       "1000"
      ]
     },
     "execution_count": 342,
     "metadata": {},
     "output_type": "execute_result"
    }
   ],
   "source": [
    "data['customer_id'].nunique()"
   ]
  },
  {
   "cell_type": "markdown",
   "id": "21eed091",
   "metadata": {},
   "source": [
    "**This represent the unique identity of customer that patronized the retail store. There are 1000 unique customers according to the data**"
   ]
  },
  {
   "cell_type": "markdown",
   "id": "de9f9292",
   "metadata": {},
   "source": [
    "### GENDER COLUMN"
   ]
  },
  {
   "cell_type": "code",
   "execution_count": 343,
   "id": "6db23386",
   "metadata": {},
   "outputs": [
    {
     "data": {
      "text/plain": [
       "0      Male\n",
       "1    Female\n",
       "2      Male\n",
       "3      Male\n",
       "4      Male\n",
       "Name: gender, dtype: category\n",
       "Categories (2, object): ['Female', 'Male']"
      ]
     },
     "execution_count": 343,
     "metadata": {},
     "output_type": "execute_result"
    }
   ],
   "source": [
    "data['gender'].head()"
   ]
  },
  {
   "cell_type": "code",
   "execution_count": 344,
   "id": "2c5f310a",
   "metadata": {},
   "outputs": [
    {
     "data": {
      "text/plain": [
       "['Male', 'Female']\n",
       "Categories (2, object): ['Female', 'Male']"
      ]
     },
     "execution_count": 344,
     "metadata": {},
     "output_type": "execute_result"
    }
   ],
   "source": [
    "data['gender'].unique()"
   ]
  },
  {
   "cell_type": "markdown",
   "id": "21fac975",
   "metadata": {},
   "source": [
    "**There are two genders that partonize the store**\n",
    "- **Male**\n",
    "- **Female**"
   ]
  },
  {
   "cell_type": "code",
   "execution_count": 345,
   "id": "b4c8d4cb",
   "metadata": {},
   "outputs": [
    {
     "data": {
      "text/html": [
       "<div>\n",
       "<style scoped>\n",
       "    .dataframe tbody tr th:only-of-type {\n",
       "        vertical-align: middle;\n",
       "    }\n",
       "\n",
       "    .dataframe tbody tr th {\n",
       "        vertical-align: top;\n",
       "    }\n",
       "\n",
       "    .dataframe thead th {\n",
       "        text-align: right;\n",
       "    }\n",
       "</style>\n",
       "<table border=\"1\" class=\"dataframe\">\n",
       "  <thead>\n",
       "    <tr style=\"text-align: right;\">\n",
       "      <th></th>\n",
       "      <th>gender</th>\n",
       "    </tr>\n",
       "  </thead>\n",
       "  <tbody>\n",
       "    <tr>\n",
       "      <th>Female</th>\n",
       "      <td>510</td>\n",
       "    </tr>\n",
       "    <tr>\n",
       "      <th>Male</th>\n",
       "      <td>490</td>\n",
       "    </tr>\n",
       "  </tbody>\n",
       "</table>\n",
       "</div>"
      ],
      "text/plain": [
       "        gender\n",
       "Female     510\n",
       "Male       490"
      ]
     },
     "execution_count": 345,
     "metadata": {},
     "output_type": "execute_result"
    }
   ],
   "source": [
    "data['gender'].value_counts().to_frame()"
   ]
  },
  {
   "cell_type": "markdown",
   "id": "7b80ad68",
   "metadata": {},
   "source": [
    "**From the above table, Females patronize the retail store more with _510_ sales while Males have _490_ sales recorded**"
   ]
  },
  {
   "cell_type": "code",
   "execution_count": 346,
   "id": "1c0273e1",
   "metadata": {},
   "outputs": [
    {
     "data": {
      "text/plain": [
       "<AxesSubplot:ylabel='gender'>"
      ]
     },
     "execution_count": 346,
     "metadata": {},
     "output_type": "execute_result"
    },
    {
     "data": {
      "image/png": "[encoded data removed]",
      "text/plain": [
       "<Figure size 432x288 with 1 Axes>"
      ]
     },
     "metadata": {},
     "output_type": "display_data"
    }
   ],
   "source": [
    "data['gender'].value_counts().plot(kind='pie',autopct='%.2f')\n"
   ]
  },
  {
   "cell_type": "markdown",
   "id": "7e1c22a7",
   "metadata": {},
   "source": [
    "**By percentage, Females has 51% number of sales while Males have 49% number of sales**"
   ]
  },
  {
   "cell_type": "markdown",
   "id": "cd3c8365",
   "metadata": {},
   "source": [
    "### AGE COLUMN"
   ]
  },
  {
   "cell_type": "code",
   "execution_count": 347,
   "id": "8914c838",
   "metadata": {},
   "outputs": [
    {
     "data": {
      "text/plain": [
       "0    34\n",
       "1    26\n",
       "2    50\n",
       "3    37\n",
       "4    30\n",
       "Name: age, dtype: int64"
      ]
     },
     "execution_count": 347,
     "metadata": {},
     "output_type": "execute_result"
    }
   ],
   "source": [
    "data['age'].head()"
   ]
  },
  {
   "cell_type": "markdown",
   "id": "2e2a7e63",
   "metadata": {},
   "source": [
    "**Creation of additional variables**\n",
    "\n",
    "**_Since we are performing a sales analysis, it is advisable to divide the customer ages into different age groups. Additionally, I will create new variables related to dates: quarter, month and season._**\n",
    "\n",
    "**Creation of age groups**\n",
    "- **Young Adults: 18-29**\n",
    "- **Early Adulthood: 30-39**\n",
    "- **Middle Adulthood: 40-49**\n",
    "- **Seniors: 50-64**"
   ]
  },
  {
   "cell_type": "code",
   "execution_count": 348,
   "id": "3b1b13d5",
   "metadata": {},
   "outputs": [],
   "source": [
    "data['age_group'] = pd.cut(data.age, bins = [17,30,40,50,64],\n",
    "                   labels= ['Young Adults', 'Early Adulthood', 'Middle Adulthood', 'Seniors'] )"
   ]
  },
  {
   "cell_type": "code",
   "execution_count": 349,
   "id": "fb47ddd8",
   "metadata": {},
   "outputs": [
    {
     "data": {
      "text/html": [
       "<div>\n",
       "<style scoped>\n",
       "    .dataframe tbody tr th:only-of-type {\n",
       "        vertical-align: middle;\n",
       "    }\n",
       "\n",
       "    .dataframe tbody tr th {\n",
       "        vertical-align: top;\n",
       "    }\n",
       "\n",
       "    .dataframe thead th {\n",
       "        text-align: right;\n",
       "    }\n",
       "</style>\n",
       "<table border=\"1\" class=\"dataframe\">\n",
       "  <thead>\n",
       "    <tr style=\"text-align: right;\">\n",
       "      <th></th>\n",
       "      <th>transaction_id</th>\n",
       "      <th>date</th>\n",
       "      <th>customer_id</th>\n",
       "      <th>gender</th>\n",
       "      <th>age</th>\n",
       "      <th>product_category</th>\n",
       "      <th>quantity</th>\n",
       "      <th>price_per_unit</th>\n",
       "      <th>total_amount</th>\n",
       "      <th>age_group</th>\n",
       "    </tr>\n",
       "  </thead>\n",
       "  <tbody>\n",
       "    <tr>\n",
       "      <th>0</th>\n",
       "      <td>1</td>\n",
       "      <td>2023-11-24</td>\n",
       "      <td>CUST001</td>\n",
       "      <td>Male</td>\n",
       "      <td>34</td>\n",
       "      <td>Beauty</td>\n",
       "      <td>3</td>\n",
       "      <td>50</td>\n",
       "      <td>150</td>\n",
       "      <td>Early Adulthood</td>\n",
       "    </tr>\n",
       "    <tr>\n",
       "      <th>1</th>\n",
       "      <td>2</td>\n",
       "      <td>2023-02-27</td>\n",
       "      <td>CUST002</td>\n",
       "      <td>Female</td>\n",
       "      <td>26</td>\n",
       "      <td>Clothing</td>\n",
       "      <td>2</td>\n",
       "      <td>500</td>\n",
       "      <td>1000</td>\n",
       "      <td>Young Adults</td>\n",
       "    </tr>\n",
       "    <tr>\n",
       "      <th>2</th>\n",
       "      <td>3</td>\n",
       "      <td>2023-01-13</td>\n",
       "      <td>CUST003</td>\n",
       "      <td>Male</td>\n",
       "      <td>50</td>\n",
       "      <td>Electronics</td>\n",
       "      <td>1</td>\n",
       "      <td>30</td>\n",
       "      <td>30</td>\n",
       "      <td>Middle Adulthood</td>\n",
       "    </tr>\n",
       "    <tr>\n",
       "      <th>3</th>\n",
       "      <td>4</td>\n",
       "      <td>2023-05-21</td>\n",
       "      <td>CUST004</td>\n",
       "      <td>Male</td>\n",
       "      <td>37</td>\n",
       "      <td>Clothing</td>\n",
       "      <td>1</td>\n",
       "      <td>500</td>\n",
       "      <td>500</td>\n",
       "      <td>Early Adulthood</td>\n",
       "    </tr>\n",
       "    <tr>\n",
       "      <th>4</th>\n",
       "      <td>5</td>\n",
       "      <td>2023-05-06</td>\n",
       "      <td>CUST005</td>\n",
       "      <td>Male</td>\n",
       "      <td>30</td>\n",
       "      <td>Beauty</td>\n",
       "      <td>2</td>\n",
       "      <td>50</td>\n",
       "      <td>100</td>\n",
       "      <td>Young Adults</td>\n",
       "    </tr>\n",
       "  </tbody>\n",
       "</table>\n",
       "</div>"
      ],
      "text/plain": [
       "   transaction_id       date customer_id  gender  age product_category  \\\n",
       "0               1 2023-11-24     CUST001    Male   34           Beauty   \n",
       "1               2 2023-02-27     CUST002  Female   26         Clothing   \n",
       "2               3 2023-01-13     CUST003    Male   50      Electronics   \n",
       "3               4 2023-05-21     CUST004    Male   37         Clothing   \n",
       "4               5 2023-05-06     CUST005    Male   30           Beauty   \n",
       "\n",
       "   quantity  price_per_unit  total_amount         age_group  \n",
       "0         3              50           150   Early Adulthood  \n",
       "1         2             500          1000      Young Adults  \n",
       "2         1              30            30  Middle Adulthood  \n",
       "3         1             500           500   Early Adulthood  \n",
       "4         2              50           100      Young Adults  "
      ]
     },
     "execution_count": 349,
     "metadata": {},
     "output_type": "execute_result"
    }
   ],
   "source": [
    "data.head()"
   ]
  },
  {
   "cell_type": "markdown",
   "id": "bc017ef0",
   "metadata": {},
   "source": [
    "**I Added a new column to the dataset \"Age group\"**"
   ]
  },
  {
   "cell_type": "code",
   "execution_count": 350,
   "id": "4c25aa10",
   "metadata": {
    "scrolled": true
   },
   "outputs": [
    {
     "data": {
      "text/plain": [
       "count    1000.00000\n",
       "mean       41.39200\n",
       "std        13.68143\n",
       "min        18.00000\n",
       "25%        29.00000\n",
       "50%        42.00000\n",
       "75%        53.00000\n",
       "max        64.00000\n",
       "Name: age, dtype: float64"
      ]
     },
     "execution_count": 350,
     "metadata": {},
     "output_type": "execute_result"
    }
   ],
   "source": [
    "data['age'].describe()"
   ]
  },
  {
   "cell_type": "markdown",
   "id": "d3193c64",
   "metadata": {},
   "source": [
    "**From the information, these are the insights derived**\n",
    "- **The younger customer is 18 years old**\n",
    "- **The oldest customer is 64 years old**\n",
    "- **The average age of customer that patronized the store is 41 years**\n",
    "\n"
   ]
  },
  {
   "cell_type": "markdown",
   "id": "1b4f9674",
   "metadata": {},
   "source": [
    "**Creation of age groups**\n",
    "- **Young Adults: 18-29**\n",
    "- **Early Adulthood: 30-39**\n",
    "- **Middle Adulthood: 40-49**\n",
    "- **Seniors: 50-64**"
   ]
  },
  {
   "cell_type": "code",
   "execution_count": 351,
   "id": "ab870224",
   "metadata": {},
   "outputs": [
    {
     "data": {
      "text/plain": [
       "['Early Adulthood', 'Young Adults', 'Middle Adulthood', 'Seniors']\n",
       "Categories (4, object): ['Young Adults' < 'Early Adulthood' < 'Middle Adulthood' < 'Seniors']"
      ]
     },
     "execution_count": 351,
     "metadata": {},
     "output_type": "execute_result"
    }
   ],
   "source": [
    "data['age_group'].unique()"
   ]
  },
  {
   "cell_type": "code",
   "execution_count": 352,
   "id": "04f3415c",
   "metadata": {
    "scrolled": true
   },
   "outputs": [
    {
     "data": {
      "text/html": [
       "<div>\n",
       "<style scoped>\n",
       "    .dataframe tbody tr th:only-of-type {\n",
       "        vertical-align: middle;\n",
       "    }\n",
       "\n",
       "    .dataframe tbody tr th {\n",
       "        vertical-align: top;\n",
       "    }\n",
       "\n",
       "    .dataframe thead th {\n",
       "        text-align: right;\n",
       "    }\n",
       "</style>\n",
       "<table border=\"1\" class=\"dataframe\">\n",
       "  <thead>\n",
       "    <tr style=\"text-align: right;\">\n",
       "      <th></th>\n",
       "      <th>age_group</th>\n",
       "    </tr>\n",
       "  </thead>\n",
       "  <tbody>\n",
       "    <tr>\n",
       "      <th>Seniors</th>\n",
       "      <td>313</td>\n",
       "    </tr>\n",
       "    <tr>\n",
       "      <th>Young Adults</th>\n",
       "      <td>273</td>\n",
       "    </tr>\n",
       "    <tr>\n",
       "      <th>Middle Adulthood</th>\n",
       "      <td>221</td>\n",
       "    </tr>\n",
       "    <tr>\n",
       "      <th>Early Adulthood</th>\n",
       "      <td>193</td>\n",
       "    </tr>\n",
       "  </tbody>\n",
       "</table>\n",
       "</div>"
      ],
      "text/plain": [
       "                  age_group\n",
       "Seniors                 313\n",
       "Young Adults            273\n",
       "Middle Adulthood        221\n",
       "Early Adulthood         193"
      ]
     },
     "execution_count": 352,
     "metadata": {},
     "output_type": "execute_result"
    }
   ],
   "source": [
    "data['age_group'].value_counts().to_frame()"
   ]
  },
  {
   "cell_type": "markdown",
   "id": "a86b794f",
   "metadata": {},
   "source": [
    "**From the above table, The \"Seniors\" i.e age from 50-64 had more numbers of sales**  \n",
    "**From the above table, The \"Early Adulthood\" i.e age from 30-39 had more numbers of sales**  \n"
   ]
  },
  {
   "cell_type": "markdown",
   "id": "8230ad5d",
   "metadata": {},
   "source": [
    "### PRODUCT CATEGORY COLUMN"
   ]
  },
  {
   "cell_type": "code",
   "execution_count": 353,
   "id": "5a59ef9a",
   "metadata": {
    "scrolled": true
   },
   "outputs": [
    {
     "data": {
      "text/plain": [
       "['Beauty', 'Clothing', 'Electronics']\n",
       "Categories (3, object): ['Beauty', 'Clothing', 'Electronics']"
      ]
     },
     "execution_count": 353,
     "metadata": {},
     "output_type": "execute_result"
    }
   ],
   "source": [
    "data['product_category'].unique()"
   ]
  },
  {
   "cell_type": "markdown",
   "id": "93ecfa63",
   "metadata": {},
   "source": [
    "**There are three (3) categories of products**\n",
    "- **Beauty**\n",
    "- **Clothing**\n",
    "- **Electronics**"
   ]
  },
  {
   "cell_type": "code",
   "execution_count": 354,
   "id": "d9f0de33",
   "metadata": {
    "scrolled": true
   },
   "outputs": [
    {
     "data": {
      "text/html": [
       "<div>\n",
       "<style scoped>\n",
       "    .dataframe tbody tr th:only-of-type {\n",
       "        vertical-align: middle;\n",
       "    }\n",
       "\n",
       "    .dataframe tbody tr th {\n",
       "        vertical-align: top;\n",
       "    }\n",
       "\n",
       "    .dataframe thead th {\n",
       "        text-align: right;\n",
       "    }\n",
       "</style>\n",
       "<table border=\"1\" class=\"dataframe\">\n",
       "  <thead>\n",
       "    <tr style=\"text-align: right;\">\n",
       "      <th></th>\n",
       "      <th>product_category</th>\n",
       "    </tr>\n",
       "  </thead>\n",
       "  <tbody>\n",
       "    <tr>\n",
       "      <th>Clothing</th>\n",
       "      <td>351</td>\n",
       "    </tr>\n",
       "    <tr>\n",
       "      <th>Electronics</th>\n",
       "      <td>342</td>\n",
       "    </tr>\n",
       "    <tr>\n",
       "      <th>Beauty</th>\n",
       "      <td>307</td>\n",
       "    </tr>\n",
       "  </tbody>\n",
       "</table>\n",
       "</div>"
      ],
      "text/plain": [
       "             product_category\n",
       "Clothing                  351\n",
       "Electronics               342\n",
       "Beauty                    307"
      ]
     },
     "execution_count": 354,
     "metadata": {},
     "output_type": "execute_result"
    }
   ],
   "source": [
    "data['product_category'].value_counts().to_frame()"
   ]
  },
  {
   "cell_type": "markdown",
   "id": "286255c5",
   "metadata": {},
   "source": [
    "**Clothing products has the highest number of sales of 351 sales**\n",
    "\n",
    "**Beauty products has the least number of sales of 307 sales**"
   ]
  },
  {
   "cell_type": "code",
   "execution_count": 355,
   "id": "70bf5817",
   "metadata": {},
   "outputs": [
    {
     "data": {
      "image/png": "[encoded data removed]",
      "text/plain": [
       "<Figure size 720x576 with 1 Axes>"
      ]
     },
     "metadata": {},
     "output_type": "display_data"
    }
   ],
   "source": [
    "# Define the explode parameter (emphasize 'A' and 'B')\n",
    "explode = (0.05, 0.05, .05)  # Explode the first and second categories\n",
    "\n",
    "# Create the pie chart and set the figure size\n",
    "fig, ax = plt.subplots(figsize=(10, 8))  # Adjust the width and height as needed\n",
    "product =  data['product_category'].value_counts()\n",
    "\n",
    "# Create the pie chart\n",
    "ax.pie(product, labels=product.index, autopct='%1.1f%%', startangle=90, explode=explode)\n",
    "\n",
    "# Set a title for the chart\n",
    "ax.set_title('Products Pie Chart')\n",
    "\n",
    "# Display the pie chart\n",
    "plt.axis('equal')  # Equal aspect ratio ensures that pie is drawn as a circle.\n",
    "plt.show()"
   ]
  },
  {
   "cell_type": "markdown",
   "id": "21dd1a46",
   "metadata": {},
   "source": [
    "### QUANTITY COLUMN"
   ]
  },
  {
   "cell_type": "code",
   "execution_count": 356,
   "id": "3fba36ea",
   "metadata": {
    "scrolled": true
   },
   "outputs": [
    {
     "data": {
      "text/plain": [
       "0    3\n",
       "1    2\n",
       "2    1\n",
       "3    1\n",
       "4    2\n",
       "Name: quantity, dtype: int64"
      ]
     },
     "execution_count": 356,
     "metadata": {},
     "output_type": "execute_result"
    }
   ],
   "source": [
    "data['quantity'].head()"
   ]
  },
  {
   "cell_type": "code",
   "execution_count": 357,
   "id": "02461a37",
   "metadata": {},
   "outputs": [
    {
     "data": {
      "text/plain": [
       "count    1000.000000\n",
       "mean        2.514000\n",
       "std         1.132734\n",
       "min         1.000000\n",
       "25%         1.000000\n",
       "50%         3.000000\n",
       "75%         4.000000\n",
       "max         4.000000\n",
       "Name: quantity, dtype: float64"
      ]
     },
     "execution_count": 357,
     "metadata": {},
     "output_type": "execute_result"
    }
   ],
   "source": [
    "data['quantity'].describe()"
   ]
  },
  {
   "cell_type": "markdown",
   "id": "3e345f30",
   "metadata": {},
   "source": [
    "- **The maximum quantity of product sold is 4**\n",
    "- **The minimum quanity of product sold is 1**\n",
    "- **The average quanity of product sold is 2.5**"
   ]
  },
  {
   "cell_type": "code",
   "execution_count": 358,
   "id": "6ad5ba11",
   "metadata": {
    "scrolled": true
   },
   "outputs": [
    {
     "data": {
      "text/plain": [
       "2514"
      ]
     },
     "execution_count": 358,
     "metadata": {},
     "output_type": "execute_result"
    }
   ],
   "source": [
    "data['quantity'].sum()"
   ]
  },
  {
   "cell_type": "markdown",
   "id": "9bb671c5",
   "metadata": {},
   "source": [
    "**The total quantity of Products sold is 2514**"
   ]
  },
  {
   "cell_type": "markdown",
   "id": "1dad50e0",
   "metadata": {},
   "source": [
    "### PRICE PER UNIT COLUMN "
   ]
  },
  {
   "cell_type": "code",
   "execution_count": 359,
   "id": "84246b7b",
   "metadata": {},
   "outputs": [
    {
     "data": {
      "text/plain": [
       "179890"
      ]
     },
     "execution_count": 359,
     "metadata": {},
     "output_type": "execute_result"
    }
   ],
   "source": [
    "data['price_per_unit'].sum()"
   ]
  },
  {
   "cell_type": "markdown",
   "id": "5e34b9c4",
   "metadata": {},
   "source": [
    "**The total sum of unit items sold is 179890**"
   ]
  },
  {
   "cell_type": "code",
   "execution_count": 360,
   "id": "e9093f85",
   "metadata": {},
   "outputs": [
    {
     "data": {
      "text/plain": [
       "count    1000.000000\n",
       "mean      179.890000\n",
       "std       189.681356\n",
       "min        25.000000\n",
       "25%        30.000000\n",
       "50%        50.000000\n",
       "75%       300.000000\n",
       "max       500.000000\n",
       "Name: price_per_unit, dtype: float64"
      ]
     },
     "execution_count": 360,
     "metadata": {},
     "output_type": "execute_result"
    }
   ],
   "source": [
    "data['price_per_unit'].describe()"
   ]
  },
  {
   "cell_type": "markdown",
   "id": "cd7e015a",
   "metadata": {},
   "source": [
    "- **The Maximum price of unit item sold is £500** (Most expensive unit item sold)\n",
    "- **The minimum price of unit item sold is £25** (least expensive unit item sold)\n",
    "- **The avarage price of unit item sold is £180**"
   ]
  },
  {
   "cell_type": "markdown",
   "id": "90ec06ee",
   "metadata": {},
   "source": [
    "### TOTAL AMOUNT COLUMN "
   ]
  },
  {
   "cell_type": "code",
   "execution_count": 361,
   "id": "4873e7e8",
   "metadata": {
    "scrolled": true
   },
   "outputs": [
    {
     "data": {
      "text/plain": [
       "456000"
      ]
     },
     "execution_count": 361,
     "metadata": {},
     "output_type": "execute_result"
    }
   ],
   "source": [
    "data['total_amount'].sum()"
   ]
  },
  {
   "cell_type": "markdown",
   "id": "ea8b1c3c",
   "metadata": {},
   "source": [
    "**The total sum of total amount of all items sold is 456000**"
   ]
  },
  {
   "cell_type": "code",
   "execution_count": 362,
   "id": "59f5065f",
   "metadata": {
    "scrolled": true
   },
   "outputs": [
    {
     "data": {
      "text/plain": [
       "count    1000.000000\n",
       "mean      456.000000\n",
       "std       559.997632\n",
       "min        25.000000\n",
       "25%        60.000000\n",
       "50%       135.000000\n",
       "75%       900.000000\n",
       "max      2000.000000\n",
       "Name: total_amount, dtype: float64"
      ]
     },
     "execution_count": 362,
     "metadata": {},
     "output_type": "execute_result"
    }
   ],
   "source": [
    "data['total_amount'].describe()"
   ]
  },
  {
   "cell_type": "markdown",
   "id": "6e3bbcd5",
   "metadata": {},
   "source": [
    "- **The Maximum total amount of items sold is £2000** \n",
    "- **The Minimum total amount of items sold is £25** \n",
    "- **The avarage total amount of items sold is £456**"
   ]
  },
  {
   "cell_type": "code",
   "execution_count": 363,
   "id": "57005217",
   "metadata": {},
   "outputs": [],
   "source": [
    "data['month'] = month"
   ]
  },
  {
   "cell_type": "code",
   "execution_count": 364,
   "id": "ab62155b",
   "metadata": {
    "scrolled": true
   },
   "outputs": [
    {
     "data": {
      "text/html": [
       "<div>\n",
       "<style scoped>\n",
       "    .dataframe tbody tr th:only-of-type {\n",
       "        vertical-align: middle;\n",
       "    }\n",
       "\n",
       "    .dataframe tbody tr th {\n",
       "        vertical-align: top;\n",
       "    }\n",
       "\n",
       "    .dataframe thead th {\n",
       "        text-align: right;\n",
       "    }\n",
       "</style>\n",
       "<table border=\"1\" class=\"dataframe\">\n",
       "  <thead>\n",
       "    <tr style=\"text-align: right;\">\n",
       "      <th></th>\n",
       "      <th>transaction_id</th>\n",
       "      <th>date</th>\n",
       "      <th>customer_id</th>\n",
       "      <th>gender</th>\n",
       "      <th>age</th>\n",
       "      <th>product_category</th>\n",
       "      <th>quantity</th>\n",
       "      <th>price_per_unit</th>\n",
       "      <th>total_amount</th>\n",
       "      <th>age_group</th>\n",
       "      <th>month</th>\n",
       "    </tr>\n",
       "  </thead>\n",
       "  <tbody>\n",
       "    <tr>\n",
       "      <th>0</th>\n",
       "      <td>1</td>\n",
       "      <td>2023-11-24</td>\n",
       "      <td>CUST001</td>\n",
       "      <td>Male</td>\n",
       "      <td>34</td>\n",
       "      <td>Beauty</td>\n",
       "      <td>3</td>\n",
       "      <td>50</td>\n",
       "      <td>150</td>\n",
       "      <td>Early Adulthood</td>\n",
       "      <td>November</td>\n",
       "    </tr>\n",
       "    <tr>\n",
       "      <th>1</th>\n",
       "      <td>2</td>\n",
       "      <td>2023-02-27</td>\n",
       "      <td>CUST002</td>\n",
       "      <td>Female</td>\n",
       "      <td>26</td>\n",
       "      <td>Clothing</td>\n",
       "      <td>2</td>\n",
       "      <td>500</td>\n",
       "      <td>1000</td>\n",
       "      <td>Young Adults</td>\n",
       "      <td>February</td>\n",
       "    </tr>\n",
       "    <tr>\n",
       "      <th>2</th>\n",
       "      <td>3</td>\n",
       "      <td>2023-01-13</td>\n",
       "      <td>CUST003</td>\n",
       "      <td>Male</td>\n",
       "      <td>50</td>\n",
       "      <td>Electronics</td>\n",
       "      <td>1</td>\n",
       "      <td>30</td>\n",
       "      <td>30</td>\n",
       "      <td>Middle Adulthood</td>\n",
       "      <td>January</td>\n",
       "    </tr>\n",
       "    <tr>\n",
       "      <th>3</th>\n",
       "      <td>4</td>\n",
       "      <td>2023-05-21</td>\n",
       "      <td>CUST004</td>\n",
       "      <td>Male</td>\n",
       "      <td>37</td>\n",
       "      <td>Clothing</td>\n",
       "      <td>1</td>\n",
       "      <td>500</td>\n",
       "      <td>500</td>\n",
       "      <td>Early Adulthood</td>\n",
       "      <td>May</td>\n",
       "    </tr>\n",
       "    <tr>\n",
       "      <th>4</th>\n",
       "      <td>5</td>\n",
       "      <td>2023-05-06</td>\n",
       "      <td>CUST005</td>\n",
       "      <td>Male</td>\n",
       "      <td>30</td>\n",
       "      <td>Beauty</td>\n",
       "      <td>2</td>\n",
       "      <td>50</td>\n",
       "      <td>100</td>\n",
       "      <td>Young Adults</td>\n",
       "      <td>May</td>\n",
       "    </tr>\n",
       "  </tbody>\n",
       "</table>\n",
       "</div>"
      ],
      "text/plain": [
       "   transaction_id       date customer_id  gender  age product_category  \\\n",
       "0               1 2023-11-24     CUST001    Male   34           Beauty   \n",
       "1               2 2023-02-27     CUST002  Female   26         Clothing   \n",
       "2               3 2023-01-13     CUST003    Male   50      Electronics   \n",
       "3               4 2023-05-21     CUST004    Male   37         Clothing   \n",
       "4               5 2023-05-06     CUST005    Male   30           Beauty   \n",
       "\n",
       "   quantity  price_per_unit  total_amount         age_group     month  \n",
       "0         3              50           150   Early Adulthood  November  \n",
       "1         2             500          1000      Young Adults  February  \n",
       "2         1              30            30  Middle Adulthood   January  \n",
       "3         1             500           500   Early Adulthood       May  \n",
       "4         2              50           100      Young Adults       May  "
      ]
     },
     "execution_count": 364,
     "metadata": {},
     "output_type": "execute_result"
    }
   ],
   "source": [
    "data.head()"
   ]
  },
  {
   "cell_type": "code",
   "execution_count": 365,
   "id": "055a2a6e",
   "metadata": {},
   "outputs": [],
   "source": [
    "avg_total_sales_per_month = data.groupby('month').total_amount.mean().round(2)"
   ]
  },
  {
   "cell_type": "code",
   "execution_count": 366,
   "id": "2a441b43",
   "metadata": {},
   "outputs": [
    {
     "data": {
      "text/html": [
       "<div>\n",
       "<style scoped>\n",
       "    .dataframe tbody tr th:only-of-type {\n",
       "        vertical-align: middle;\n",
       "    }\n",
       "\n",
       "    .dataframe tbody tr th {\n",
       "        vertical-align: top;\n",
       "    }\n",
       "\n",
       "    .dataframe thead th {\n",
       "        text-align: right;\n",
       "    }\n",
       "</style>\n",
       "<table border=\"1\" class=\"dataframe\">\n",
       "  <thead>\n",
       "    <tr style=\"text-align: right;\">\n",
       "      <th></th>\n",
       "      <th>total_amount</th>\n",
       "    </tr>\n",
       "    <tr>\n",
       "      <th>month</th>\n",
       "      <th></th>\n",
       "    </tr>\n",
       "  </thead>\n",
       "  <tbody>\n",
       "    <tr>\n",
       "      <th>April</th>\n",
       "      <td>393.84</td>\n",
       "    </tr>\n",
       "    <tr>\n",
       "      <th>August</th>\n",
       "      <td>393.19</td>\n",
       "    </tr>\n",
       "    <tr>\n",
       "      <th>December</th>\n",
       "      <td>491.10</td>\n",
       "    </tr>\n",
       "    <tr>\n",
       "      <th>February</th>\n",
       "      <td>518.35</td>\n",
       "    </tr>\n",
       "    <tr>\n",
       "      <th>January</th>\n",
       "      <td>474.10</td>\n",
       "    </tr>\n",
       "    <tr>\n",
       "      <th>July</th>\n",
       "      <td>492.57</td>\n",
       "    </tr>\n",
       "    <tr>\n",
       "      <th>June</th>\n",
       "      <td>476.82</td>\n",
       "    </tr>\n",
       "    <tr>\n",
       "      <th>March</th>\n",
       "      <td>397.12</td>\n",
       "    </tr>\n",
       "    <tr>\n",
       "      <th>May</th>\n",
       "      <td>506.19</td>\n",
       "    </tr>\n",
       "    <tr>\n",
       "      <th>November</th>\n",
       "      <td>447.69</td>\n",
       "    </tr>\n",
       "    <tr>\n",
       "      <th>October</th>\n",
       "      <td>485.21</td>\n",
       "    </tr>\n",
       "    <tr>\n",
       "      <th>September</th>\n",
       "      <td>363.38</td>\n",
       "    </tr>\n",
       "  </tbody>\n",
       "</table>\n",
       "</div>"
      ],
      "text/plain": [
       "           total_amount\n",
       "month                  \n",
       "April            393.84\n",
       "August           393.19\n",
       "December         491.10\n",
       "February         518.35\n",
       "January          474.10\n",
       "July             492.57\n",
       "June             476.82\n",
       "March            397.12\n",
       "May              506.19\n",
       "November         447.69\n",
       "October          485.21\n",
       "September        363.38"
      ]
     },
     "execution_count": 366,
     "metadata": {},
     "output_type": "execute_result"
    }
   ],
   "source": [
    "avg_total_sales_per_month.to_frame()"
   ]
  },
  {
   "cell_type": "code",
   "execution_count": 367,
   "id": "fb169a13",
   "metadata": {},
   "outputs": [],
   "source": [
    "# Get the value counts\n",
    "value_counts = avg_total_sales_per_month\n",
    "\n",
    "# Define a custom sort order\n",
    "custom_sort = ['January', 'February', 'March', 'April', 'May', 'June', 'July', 'August', 'September',\n",
    "               'October', 'November', 'December']\n",
    "\n",
    "# Sort the value counts based on the custom order\n",
    "avg_total_sales_per_month = value_counts.loc[custom_sort]"
   ]
  },
  {
   "cell_type": "markdown",
   "id": "eb04676d",
   "metadata": {},
   "source": [
    "**The above table is the average total sales per month**"
   ]
  },
  {
   "cell_type": "code",
   "execution_count": 368,
   "id": "48f4001d",
   "metadata": {
    "scrolled": true
   },
   "outputs": [
    {
     "data": {
      "image/png": "[encoded data removed]",
      "text/plain": [
       "<Figure size 1152x288 with 1 Axes>"
      ]
     },
     "metadata": {
      "needs_background": "light"
     },
     "output_type": "display_data"
    }
   ],
   "source": [
    "fig, ax = plt.subplots(figsize=(16,4))\n",
    "plt.plot(avg_total_sales_per_month, ls='--', color='gray')\n",
    "plt.scatter(avg_total_sales_per_month.index,\n",
    "            avg_total_sales_per_month.values,\n",
    "           edgecolor='red', color='none', s=150)\n",
    "ax.set_xlabel('Month')\n",
    "ax.set_ylabel('Average amount spent on a sale')\n",
    "ax.set_title('Average amount spent on a sale')\n",
    "#plt.xticks(rotation=45)\n",
    "plt.show()"
   ]
  },
  {
   "cell_type": "markdown",
   "id": "7aaad109",
   "metadata": {},
   "source": [
    "**What is the Average amount spent Per Gender?**"
   ]
  },
  {
   "cell_type": "code",
   "execution_count": 369,
   "id": "89d5ae41",
   "metadata": {},
   "outputs": [],
   "source": [
    "avg_spent_per_gender = data.groupby('gender').total_amount.mean().round(2)"
   ]
  },
  {
   "cell_type": "code",
   "execution_count": 370,
   "id": "96436d00",
   "metadata": {},
   "outputs": [
    {
     "data": {
      "text/html": [
       "<div>\n",
       "<style scoped>\n",
       "    .dataframe tbody tr th:only-of-type {\n",
       "        vertical-align: middle;\n",
       "    }\n",
       "\n",
       "    .dataframe tbody tr th {\n",
       "        vertical-align: top;\n",
       "    }\n",
       "\n",
       "    .dataframe thead th {\n",
       "        text-align: right;\n",
       "    }\n",
       "</style>\n",
       "<table border=\"1\" class=\"dataframe\">\n",
       "  <thead>\n",
       "    <tr style=\"text-align: right;\">\n",
       "      <th></th>\n",
       "      <th>total_amount</th>\n",
       "    </tr>\n",
       "    <tr>\n",
       "      <th>gender</th>\n",
       "      <th></th>\n",
       "    </tr>\n",
       "  </thead>\n",
       "  <tbody>\n",
       "    <tr>\n",
       "      <th>Female</th>\n",
       "      <td>456.55</td>\n",
       "    </tr>\n",
       "    <tr>\n",
       "      <th>Male</th>\n",
       "      <td>455.43</td>\n",
       "    </tr>\n",
       "  </tbody>\n",
       "</table>\n",
       "</div>"
      ],
      "text/plain": [
       "        total_amount\n",
       "gender              \n",
       "Female        456.55\n",
       "Male          455.43"
      ]
     },
     "execution_count": 370,
     "metadata": {},
     "output_type": "execute_result"
    }
   ],
   "source": [
    "avg_spent_per_gender.to_frame()"
   ]
  },
  {
   "cell_type": "markdown",
   "id": "5fb12614",
   "metadata": {},
   "source": [
    "**According to data, Female have an average total sum of £456.55, while Male have an average total sum of £455.43**\n",
    "\n",
    "**Female spent more than Male.**"
   ]
  },
  {
   "cell_type": "code",
   "execution_count": 371,
   "id": "8adae4dd",
   "metadata": {
    "scrolled": true
   },
   "outputs": [
    {
     "data": {
      "text/plain": [
       "<AxesSubplot:ylabel='total_amount'>"
      ]
     },
     "execution_count": 371,
     "metadata": {},
     "output_type": "execute_result"
    },
    {
     "data": {
      "image/png": "[encoded data removed]",
      "text/plain": [
       "<Figure size 432x288 with 1 Axes>"
      ]
     },
     "metadata": {},
     "output_type": "display_data"
    }
   ],
   "source": [
    "avg_spent_per_gender.plot(kind='pie',autopct='%.2f')"
   ]
  },
  {
   "cell_type": "markdown",
   "id": "aa5896a0",
   "metadata": {},
   "source": [
    "**What is the average spent by Age group?**"
   ]
  },
  {
   "cell_type": "code",
   "execution_count": 372,
   "id": "0cf9f38e",
   "metadata": {},
   "outputs": [],
   "source": [
    "avg_spent_per_age_group = data.groupby('age_group').total_amount.mean().round(2)"
   ]
  },
  {
   "cell_type": "code",
   "execution_count": 373,
   "id": "2d8b3ea7",
   "metadata": {},
   "outputs": [
    {
     "data": {
      "text/html": [
       "<div>\n",
       "<style scoped>\n",
       "    .dataframe tbody tr th:only-of-type {\n",
       "        vertical-align: middle;\n",
       "    }\n",
       "\n",
       "    .dataframe tbody tr th {\n",
       "        vertical-align: top;\n",
       "    }\n",
       "\n",
       "    .dataframe thead th {\n",
       "        text-align: right;\n",
       "    }\n",
       "</style>\n",
       "<table border=\"1\" class=\"dataframe\">\n",
       "  <thead>\n",
       "    <tr style=\"text-align: right;\">\n",
       "      <th></th>\n",
       "      <th>total_amount</th>\n",
       "    </tr>\n",
       "    <tr>\n",
       "      <th>age_group</th>\n",
       "      <th></th>\n",
       "    </tr>\n",
       "  </thead>\n",
       "  <tbody>\n",
       "    <tr>\n",
       "      <th>Young Adults</th>\n",
       "      <td>486.98</td>\n",
       "    </tr>\n",
       "    <tr>\n",
       "      <th>Early Adulthood</th>\n",
       "      <td>497.15</td>\n",
       "    </tr>\n",
       "    <tr>\n",
       "      <th>Middle Adulthood</th>\n",
       "      <td>424.41</td>\n",
       "    </tr>\n",
       "    <tr>\n",
       "      <th>Seniors</th>\n",
       "      <td>425.91</td>\n",
       "    </tr>\n",
       "  </tbody>\n",
       "</table>\n",
       "</div>"
      ],
      "text/plain": [
       "                  total_amount\n",
       "age_group                     \n",
       "Young Adults            486.98\n",
       "Early Adulthood         497.15\n",
       "Middle Adulthood        424.41\n",
       "Seniors                 425.91"
      ]
     },
     "execution_count": 373,
     "metadata": {},
     "output_type": "execute_result"
    }
   ],
   "source": [
    "avg_spent_per_age_group.to_frame()"
   ]
  },
  {
   "cell_type": "markdown",
   "id": "dca15ed2",
   "metadata": {},
   "source": [
    "\n",
    "- **Young Adults: 18-29** \n",
    "- **Early Adulthood: 30-39**\n",
    "- **Middle Adulthood: 40-49**\n",
    "- **Seniors: 50-64**"
   ]
  },
  {
   "cell_type": "code",
   "execution_count": 374,
   "id": "a7d355af",
   "metadata": {
    "scrolled": true
   },
   "outputs": [
    {
     "data": {
      "image/png": "[encoded data removed]",
      "text/plain": [
       "<Figure size 1008x288 with 1 Axes>"
      ]
     },
     "metadata": {
      "needs_background": "light"
     },
     "output_type": "display_data"
    }
   ],
   "source": [
    "fig, ax = plt.subplots(figsize=(14,4))\n",
    "plt.bar(x=avg_spent_per_age_group.index, height=avg_spent_per_age_group,\n",
    "       color='lightgreen', edgecolor='black')\n",
    "ax.set_xlabel('Age group')\n",
    "ax.set_ylabel('Average amount spent on a sale')\n",
    "ax.set_title('Average amount spent for different age groups')\n",
    "#plt.xticks(rotation=45)\n",
    "plt.show()"
   ]
  },
  {
   "cell_type": "markdown",
   "id": "3572bbcf",
   "metadata": {},
   "source": [
    "**Early Adulthood from Age 30 - 39, spent more on the Average**"
   ]
  },
  {
   "cell_type": "code",
   "execution_count": 375,
   "id": "f47cbfb2",
   "metadata": {},
   "outputs": [],
   "source": [
    "avg_amount_per_product = data.groupby('product_category').total_amount.mean().round(2)"
   ]
  },
  {
   "cell_type": "code",
   "execution_count": 376,
   "id": "4f9ed726",
   "metadata": {
    "scrolled": true
   },
   "outputs": [
    {
     "data": {
      "text/html": [
       "<div>\n",
       "<style scoped>\n",
       "    .dataframe tbody tr th:only-of-type {\n",
       "        vertical-align: middle;\n",
       "    }\n",
       "\n",
       "    .dataframe tbody tr th {\n",
       "        vertical-align: top;\n",
       "    }\n",
       "\n",
       "    .dataframe thead th {\n",
       "        text-align: right;\n",
       "    }\n",
       "</style>\n",
       "<table border=\"1\" class=\"dataframe\">\n",
       "  <thead>\n",
       "    <tr style=\"text-align: right;\">\n",
       "      <th></th>\n",
       "      <th>total_amount</th>\n",
       "    </tr>\n",
       "    <tr>\n",
       "      <th>product_category</th>\n",
       "      <th></th>\n",
       "    </tr>\n",
       "  </thead>\n",
       "  <tbody>\n",
       "    <tr>\n",
       "      <th>Beauty</th>\n",
       "      <td>467.48</td>\n",
       "    </tr>\n",
       "    <tr>\n",
       "      <th>Clothing</th>\n",
       "      <td>443.25</td>\n",
       "    </tr>\n",
       "    <tr>\n",
       "      <th>Electronics</th>\n",
       "      <td>458.79</td>\n",
       "    </tr>\n",
       "  </tbody>\n",
       "</table>\n",
       "</div>"
      ],
      "text/plain": [
       "                  total_amount\n",
       "product_category              \n",
       "Beauty                  467.48\n",
       "Clothing                443.25\n",
       "Electronics             458.79"
      ]
     },
     "execution_count": 376,
     "metadata": {},
     "output_type": "execute_result"
    }
   ],
   "source": [
    "avg_amount_per_product.to_frame()"
   ]
  },
  {
   "cell_type": "markdown",
   "id": "18e7c2f3",
   "metadata": {},
   "source": [
    "**On average, beauty products cost more**"
   ]
  },
  {
   "cell_type": "code",
   "execution_count": 377,
   "id": "e3c15d9e",
   "metadata": {},
   "outputs": [
    {
     "data": {
      "image/png": "[encoded data removed]",
      "text/plain": [
       "<Figure size 576x504 with 1 Axes>"
      ]
     },
     "metadata": {},
     "output_type": "display_data"
    }
   ],
   "source": [
    "# Define the explode parameter (emphasize 'A' and 'B')\n",
    "\n",
    "# Create the pie chart and set the figure size\n",
    "fig, ax = plt.subplots(figsize=(8, 7))  # Adjust the width and height as needed\n",
    "\n",
    "\n",
    "# Create the pie chart\n",
    "ax.pie(avg_amount_per_product, labels=avg_amount_per_product.index, autopct='%1.2f%%', startangle=90)\n",
    "\n",
    "# Set a title for the chart\n",
    "ax.set_title('Average total amount of products')\n",
    "\n",
    "# Display the pie chart\n",
    "plt.axis('equal')  # Equal aspect ratio ensures that pie is drawn as a circle.\n",
    "plt.show()"
   ]
  }
 ],
 "metadata": {
  "kernelspec": {
   "display_name": "Python 3 (ipykernel)",
   "language": "python",
   "name": "python3"
  },
  "language_info": {
   "codemirror_mode": {
    "name": "ipython",
    "version": 3
   },
   "file_extension": ".py",
   "mimetype": "text/x-python",
   "name": "python",
   "nbconvert_exporter": "python",
   "pygments_lexer": "ipython3",
   "version": "3.9.7"
  }
 },
 "nbformat": 4,
 "nbformat_minor": 5
}
